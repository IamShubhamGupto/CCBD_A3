{
 "cells": [
  {
   "cell_type": "code",
   "execution_count": 1,
   "metadata": {
    "collapsed": true
   },
   "outputs": [],
   "source": [
    "import cv2\n",
    "import numpy as np\n",
    "from osgeo import gdal\n",
    "import glob\n",
    "import csv"
   ]
  },
  {
   "cell_type": "code",
   "execution_count": 2,
   "metadata": {},
   "outputs": [],
   "source": [
    "headers = ['File name','Coordinates of image center','Green percentage']\n",
    "file_list = glob.glob(r'D:\\SHUBHAM\\CCBD\\QGIS\\BLR_183\\*.tif')\n",
    "images_list = []\n",
    "\n",
    "file_name = 'D:\\\\SHUBHAM\\\\CCBD\\\\information_183.csv'\n",
    "extra_path = 'D:\\\\SHUBHAM\\\\CCBD\\\\QGIS\\\\BLR_183\\\\'\n"
   ]
  },
  {
   "cell_type": "code",
   "execution_count": 3,
   "metadata": {},
   "outputs": [],
   "source": [
    "for img_path in file_list:\n",
    "    image_data= []\n",
    "    img = cv2.imread(img_path)\n",
    "    h,w,c = img.shape\n",
    "    ds = gdal.Open(img_path)\n",
    "    name = img_path.replace(extra_path,'')\n",
    "    image_data.append(name)\n",
    "    \n",
    "    metadata = gdal.Info(ds)\n",
    "    x = metadata.find(\"Center\")\n",
    "    location = metadata[x+42:x+70].strip()\n",
    "    image_data.append(location)\n",
    "    \n",
    "    hsv = cv2.cvtColor(img, cv2.COLOR_BGR2HSV)\n",
    "    lower_green = np.array([20,0,0])\n",
    "    upper_green = np.array([90,245,245])\n",
    "    mask = cv2.inRange(hsv, lower_green, upper_green)\n",
    "    white_pixel = np.sum(mask > 0)\n",
    "    black_pixel = np.sum(mask == 0)\n",
    "    area = white_pixel/(white_pixel+black_pixel)\n",
    "    image_data.append(area)\n",
    "    \n",
    "    images_list.append(image_data)\n",
    "    "
   ]
  },
  {
   "cell_type": "code",
   "execution_count": 6,
   "metadata": {},
   "outputs": [
    {
     "name": "stdout",
     "output_type": "stream",
     "text": [
      "['BLR_183.426.tif', '76d57\\'24.38\"E, 13d26\\'12.27\"N', 0.7695362656394638]\n",
      "['BLR_183.483.tif', '76d54\\'21.44\"E, 13d25\\'14.13\"N', 0.7798381558123563]\n",
      "['BLR_183.484.tif', '76d55\\'22.26\"E, 13d25\\'13.67\"N', 0.7545462689241244]\n",
      "['BLR_183.722.tif', '76d53\\'18.76\"E, 13d21\\'16.43\"N', 0.761384335154827]\n",
      "['BLR_183.850.tif', '77d 1\\'24.20\"E, 13d19\\'13.61\"N', 0.760189913105796]\n",
      "['BLR_183.962.tif', '76d53\\'16.91\"E, 13d17\\'18.27\"N', 0.7940219176445997]\n"
     ]
    }
   ],
   "source": [
    "for data in images_list:\n",
    "    if(data[2] > 0.75):\n",
    "        print(data)"
   ]
  },
  {
   "cell_type": "code",
   "execution_count": 5,
   "metadata": {},
   "outputs": [],
   "source": [
    "# writing to csv file  \n",
    "with open(file_name, 'w',newline='') as csvfile:  \n",
    "    # creating a csv writer object  \n",
    "    csvwriter = csv.writer(csvfile)  \n",
    "        \n",
    "    # writing the fields  \n",
    "    csvwriter.writerow(headers)  \n",
    "        \n",
    "    # writing the data rows  \n",
    "    csvwriter.writerows(images_list)"
   ]
  },
  {
   "cell_type": "code",
   "execution_count": null,
   "metadata": {
    "collapsed": true
   },
   "outputs": [],
   "source": []
  }
 ],
 "metadata": {
  "kernelspec": {
   "display_name": "Python 3",
   "language": "python",
   "name": "python3"
  },
  "language_info": {
   "codemirror_mode": {
    "name": "ipython",
    "version": 3
   },
   "file_extension": ".py",
   "mimetype": "text/x-python",
   "name": "python",
   "nbconvert_exporter": "python",
   "pygments_lexer": "ipython3",
   "version": "3.6.1"
  }
 },
 "nbformat": 4,
 "nbformat_minor": 2
}
