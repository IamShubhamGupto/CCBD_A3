{
 "cells": [
  {
   "cell_type": "code",
   "execution_count": 1,
   "metadata": {
    "collapsed": true
   },
   "outputs": [],
   "source": [
    "import cv2\n",
    "import numpy as np\n",
    "from osgeo import gdal\n",
    "import glob\n",
    "import csv\n",
    "import pandas as pd"
   ]
  },
  {
   "cell_type": "code",
   "execution_count": 2,
   "metadata": {
    "collapsed": true
   },
   "outputs": [],
   "source": [
    "#headers = ['File name','Coordinates of image center','Green percentage']\n",
    "file_list = glob.glob(r'D:\\SHUBHAM\\CCBD\\QGIS\\BLR_CLIP\\*.tif')\n",
    "images_list = []\n",
    "\n",
    "file_name = 'D:\\\\SHUBHAM\\\\CCBD\\\\information_CLIP.csv'\n",
    "metafile = 'D:\\\\SHUBHAM\\\\CCBD\\\\statistics_CLIP.csv'\n",
    "extra_path = 'D:\\\\SHUBHAM\\\\CCBD\\\\QGIS\\\\BLR_CLIP\\\\'\n",
    "area_list = []"
   ]
  },
  {
   "cell_type": "code",
   "execution_count": 3,
   "metadata": {
    "collapsed": true
   },
   "outputs": [],
   "source": [
    "for img_path in file_list:\n",
    "    image_data= []\n",
    "    img = cv2.imread(img_path)\n",
    "    h,w,c = img.shape\n",
    "    ds = gdal.Open(img_path)\n",
    "    name = img_path.replace(extra_path,'')\n",
    "    image_data.append(name)\n",
    "    \n",
    "    metadata = gdal.Info(ds)\n",
    "    x = metadata.find(\"Center\")\n",
    "    location = metadata[x+42:x+70].strip()\n",
    "    location = location.replace(\",\",\"  \")\n",
    "    location = location.replace('\\'',\" \")\n",
    "    location = location.replace('\\\"',\" \")\n",
    "    location = location.replace('d',\" \")\n",
    "    image_data.append(location)\n",
    "    \n",
    "    hsv = cv2.cvtColor(img, cv2.COLOR_BGR2HSV)\n",
    "    lower_green = np.array([20,0,0])\n",
    "    upper_green = np.array([90,245,245])\n",
    "    mask = cv2.inRange(hsv, lower_green, upper_green)\n",
    "    white_pixel = np.sum(mask > 0)\n",
    "    black_pixel = np.sum(mask == 0)\n",
    "    area = white_pixel/(white_pixel+black_pixel)\n",
    "    image_data.append(area)\n",
    "    area_list.append(area)\n",
    "    \n",
    "    images_list.append(image_data)\n",
    "    "
   ]
  },
  {
   "cell_type": "code",
   "execution_count": 4,
   "metadata": {},
   "outputs": [],
   "source": [
    "area_list.sort()\n",
    "df = pd.DataFrame({'Green_Area':area_list})\n",
    "mean = df.Green_Area.mean()\n",
    "median = df.Green_Area.median()\n",
    "q25 = df.Green_Area.quantile(0.25)\n",
    "q75 = df.Green_Area.quantile(0.75)\n",
    "threshold = df.Green_Area.quantile(0.90)"
   ]
  },
  {
   "cell_type": "code",
   "execution_count": 5,
   "metadata": {},
   "outputs": [
    {
     "name": "stdout",
     "output_type": "stream",
     "text": [
      "0.2123845270289186 0.19364136605817103 0.1399248842693685 0.25617957900253296 0.34670276880076867\n"
     ]
    }
   ],
   "source": [
    "print(mean,median,q25,q75,threshold)"
   ]
  },
  {
   "cell_type": "code",
   "execution_count": 6,
   "metadata": {},
   "outputs": [
    {
     "name": "stdout",
     "output_type": "stream",
     "text": [
      "['BLR_CLIP.1016.tif', '77 43  6.21 E   12 51 23.08 N', 0.3747925583020351]\n",
      "['BLR_CLIP.1057.tif', '77 28 18.91 E   12 50 22.25 N', 0.36212769674207357]\n",
      "['BLR_CLIP.1059.tif', '77 29 29.84 E   12 50 21.58 N', 0.4056249454100795]\n",
      "['BLR_CLIP.112.tif', '77 35 34.94 E   13  7  7.25 N', 0.45375141933793345]\n",
      "['BLR_CLIP.145.tif', '77 35 34.57 E   13  6 32.46 N', 0.47279238361428944]\n",
      "['BLR_CLIP.155.tif', '77 41 29.56 E   13  6 28.82 N', 0.387806795353306]\n",
      "['BLR_CLIP.156.tif', '77 42  5.06 E   13  6 28.44 N', 0.4780330159839287]\n",
      "['BLR_CLIP.158.tif', '77 43 16.05 E   13  6 27.70 N', 0.5507031181762599]\n",
      "['BLR_CLIP.159.tif', '77 43 51.55 E   13  6 27.32 N', 0.42440387806795354]\n",
      "['BLR_CLIP.163.tif', '77 46 13.53 E   13  6 25.80 N', 0.35068564940169444]\n",
      "['BLR_CLIP.179.tif', '77 36  9.71 E   13  5 57.30 N', 0.37619006026727225]\n",
      "['BLR_CLIP.187.tif', '77 40 53.69 E   13  5 54.39 N', 0.37959647130753776]\n",
      "['BLR_CLIP.194.tif', '77 45  2.15 E   13  5 51.77 N', 0.36963926980522316]\n",
      "['BLR_CLIP.195.tif', '77 45 37.65 E   13  5 51.39 N', 0.4638833085859027]\n",
      "['BLR_CLIP.196.tif', '77 46 13.14 E   13  5 51.01 N', 0.655166390077736]\n",
      "['BLR_CLIP.197.tif', '77 46 48.64 E   13  5 50.63 N', 0.4423967158703817]\n",
      "['BLR_CLIP.213.tif', '77 36 44.84 E   13  5 22.15 N', 0.4363699886452965]\n",
      "['BLR_CLIP.220.tif', '77 40 53.31 E   13  5 19.60 N', 0.3702506769150144]\n",
      "['BLR_CLIP.223.tif', '77 42 39.79 E   13  5 18.48 N', 0.3739191195737619]\n",
      "['BLR_CLIP.225.tif', '77 43 50.78 E   13  5 17.74 N', 0.3747925583020351]\n",
      "['BLR_CLIP.228.tif', '77 45 37.26 E   13  5 16.60 N', 0.48178880251550354]\n",
      "['BLR_CLIP.229.tif', '77 46 12.75 E   13  5 16.22 N', 0.5734998689841908]\n",
      "['BLR_CLIP.23.tif', '77 41 31.08 E   13  8 47.99 N', 0.35924534893877197]\n",
      "['BLR_CLIP.230.tif', '77 46 48.24 E   13  5 15.84 N', 0.5100882173115556]\n",
      "['BLR_CLIP.235.tif', '77 30 14.00 E   13  4 51.22 N', 0.44667656563892044]\n",
      "['BLR_CLIP.236.tif', '77 30 49.50 E   13  4 50.88 N', 0.3471918944886016]\n",
      "['BLR_CLIP.246.tif', '77 36 44.47 E   13  4 47.35 N', 0.36998864529653247]\n",
      "['BLR_CLIP.252.tif', '77 40 17.44 E   13  4 45.17 N', 0.4095554196873089]\n",
      "['BLR_CLIP.253.tif', '77 40 52.93 E   13  4 44.80 N', 0.4502576644248406]\n",
      "['BLR_CLIP.259.tif', '77 44 25.89 E   13  4 42.57 N', 0.4250152851777448]\n",
      "['BLR_CLIP.26.tif', '77 43 17.58 E   13  8 46.87 N', 0.39427024194252774]\n",
      "['BLR_CLIP.261.tif', '77 45 36.87 E   13  4 41.81 N', 0.5991789675954232]\n",
      "['BLR_CLIP.262.tif', '77 46 12.36 E   13  4 41.43 N', 0.6309721373045681]\n",
      "['BLR_CLIP.263.tif', '77 46 47.85 E   13  4 41.05 N', 0.5058957114158442]\n",
      "['BLR_CLIP.28.tif', '77 44 28.59 E   13  8 46.11 N', 0.4918333478906455]\n",
      "['BLR_CLIP.290.tif', '77 43 14.52 E   13  4  8.53 N', 0.41130229714385536]\n",
      "['BLR_CLIP.294.tif', '77 45 36.49 E   13  4  7.02 N', 0.4024805659882959]\n",
      "['BLR_CLIP.295.tif', '77 46 11.98 E   13  4  6.64 N', 0.683465804873788]\n",
      "['BLR_CLIP.30.tif', '77 45 39.59 E   13  8 45.35 N', 0.3954930561621102]\n",
      "['BLR_CLIP.307.tif', '77 33 46.27 E   13  3 39.54 N', 0.35208315136693163]\n",
      "['BLR_CLIP.31.tif', '77 46 15.09 E   13  8 44.97 N', 0.36728098523888547]\n",
      "['BLR_CLIP.312.tif', '77 36 43.74 E   13  3 37.76 N', 0.5118350947681021]\n",
      "['BLR_CLIP.320.tif', '77 41 27.67 E   13  3 34.85 N', 0.3692025504410866]\n",
      "['BLR_CLIP.323.tif', '77 43 14.14 E   13  3 33.73 N', 0.4011704078958861]\n",
      "['BLR_CLIP.328.tif', '77 46 11.59 E   13  3 31.85 N', 0.37287099309983407]\n",
      "['BLR_CLIP.329.tif', '77 46 47.08 E   13  3 31.47 N', 0.6145514892130317]\n",
      "['BLR_CLIP.349.tif', '77 39  5.34 E   13  3  1.52 N', 0.3689405188226046]\n",
      "['BLR_CLIP.35.tif', '77 29  5.10 E   13  8 20.70 N', 0.41182636038081927]\n",
      "['BLR_CLIP.350.tif', '77 39 40.83 E   13  3  1.15 N', 0.5317494977727313]\n",
      "['BLR_CLIP.351.tif', '77 40 16.32 E   13  3  0.79 N', 0.5588260983492008]\n",
      "['BLR_CLIP.352.tif', '77 40 51.81 E   13  3  0.42 N', 0.4585553323434361]\n",
      "['BLR_CLIP.353.tif', '77 41 27.30 E   13  3  0.05 N', 0.5491309284653682]\n",
      "['BLR_CLIP.354.tif', '77 42  2.78 E   13  2 59.68 N', 0.5181238536116691]\n",
      "['BLR_CLIP.355.tif', '77 42 38.27 E   13  2 59.31 N', 0.41374792558302037]\n",
      "['BLR_CLIP.356.tif', '77 43 13.76 E   13  2 58.94 N', 0.40833260546772643]\n",
      "['BLR_CLIP.361.tif', '77 46 11.20 E   13  2 57.06 N', 0.3983754039654118]\n",
      "['BLR_CLIP.362.tif', '77 46 46.69 E   13  2 56.68 N', 0.49095990916237225]\n",
      "['BLR_CLIP.366.tif', '77 29 37.10 E   13  2 32.37 N', 0.38352694558476724]\n",
      "['BLR_CLIP.383.tif', '77 39 40.45 E   13  2 26.36 N', 0.366320202637785]\n",
      "['BLR_CLIP.389.tif', '77 43 13.38 E   13  2 24.15 N', 0.49419163245698317]\n",
      "['BLR_CLIP.390.tif', '77 43 48.87 E   13  2 23.77 N', 0.4070224473753166]\n",
      "['BLR_CLIP.395.tif', '77 46 46.30 E   13  2 21.88 N', 0.3722595859900428]\n",
      "['BLR_CLIP.428.tif', '77 46 45.91 E   13  1 47.09 N', 0.5224910472530352]\n",
      "['BLR_CLIP.457.tif', '77 44 23.59 E   13  1 13.81 N', 0.5921914577692375]\n",
      "['BLR_CLIP.458.tif', '77 44 59.07 E   13  1 13.44 N', 0.37741287448685473]\n",
      "['BLR_CLIP.460.tif', '77 46 10.04 E   13  1 12.68 N', 0.37776224997816404]\n",
      "['BLR_CLIP.461.tif', '77 46 45.52 E   13  1 12.30 N', 0.4968992925146301]\n",
      "['BLR_CLIP.490.tif', '77 44 23.21 E   13  0 39.02 N', 0.4071971351209713]\n",
      "['BLR_CLIP.491.tif', '77 44 58.69 E   13  0 38.64 N', 0.5715783037819897]\n",
      "['BLR_CLIP.493.tif', '77 46  9.65 E   13  0 37.89 N', 0.5258974582933007]\n",
      "['BLR_CLIP.494.tif', '77 46 45.13 E   13  0 37.51 N', 0.4100794829242729]\n",
      "['BLR_CLIP.52.tif', '77 39  8.69 E   13  8 14.67 N', 0.4861559961568696]\n",
      "['BLR_CLIP.526.tif', '77 46  9.27 E   13  0  3.10 N', 0.5711415844178531]\n",
      "['BLR_CLIP.527.tif', '77 46 44.74 E   13  0  2.72 N', 0.5307013712988033]\n",
      "['BLR_CLIP.55.tif', '77 40 55.20 E   13  8 13.57 N', 0.3846624159315224]\n",
      "['BLR_CLIP.559.tif', '77 46  8.88 E   12 59 28.31 N', 0.4036160363350511]\n",
      "['BLR_CLIP.56.tif', '77 41 30.70 E   13  8 13.20 N', 0.38955367280985237]\n",
      "['BLR_CLIP.560.tif', '77 46 44.36 E   12 59 27.93 N', 0.3891169534457158]\n",
      "['BLR_CLIP.58.tif', '77 42 41.70 E   13  8 12.45 N', 0.4796052056948205]\n",
      "['BLR_CLIP.593.tif', '77 46 43.97 E   12 58 53.14 N', 0.46266049436632023]\n",
      "['BLR_CLIP.594.tif', '77 27 48.21 E   12 58 29.79 N', 0.3618656651235916]\n",
      "['BLR_CLIP.62.tif', '77 45  3.70 E   13  8 10.94 N', 0.44842344309546683]\n",
      "['BLR_CLIP.626.tif', '77 46 43.58 E   12 58 18.34 N', 0.6541182636038082]\n",
      "['BLR_CLIP.64.tif', '77 46 14.70 E   13  8 10.18 N', 0.35208315136693163]\n",
      "['BLR_CLIP.657.tif', '77 45 32.25 E   12 57 44.31 N', 0.4014324395143681]\n",
      "['BLR_CLIP.658.tif', '77 46  7.72 E   12 57 43.93 N', 0.4557603284129618]\n",
      "['BLR_CLIP.659.tif', '77 46 43.20 E   12 57 43.55 N', 0.36570879552799374]\n",
      "['BLR_CLIP.660.tif', '77 27 47.53 E   12 57 20.19 N', 0.43401170407895884]\n",
      "['BLR_CLIP.662.tif', '77 28 58.49 E   12 57 19.51 N', 0.34867674032666607]\n",
      "['BLR_CLIP.68.tif', '77 29  4.75 E   13  7 45.91 N', 0.36797973622150404]\n",
      "['BLR_CLIP.687.tif', '77 43 45.44 E   12 57 10.64 N', 0.3935714909599092]\n",
      "['BLR_CLIP.688.tif', '77 44 20.92 E   12 57 10.27 N', 0.568695955978688]\n",
      "['BLR_CLIP.689.tif', '77 44 56.39 E   12 57  9.89 N', 0.4292951349462835]\n",
      "['BLR_CLIP.690.tif', '77 45 31.87 E   12 57  9.52 N', 0.5348938771945148]\n",
      "['BLR_CLIP.693.tif', '77 27 47.19 E   12 56 45.39 N', 0.37645209188575424]\n",
      "['BLR_CLIP.713.tif', '77 39 36.75 E   12 56 38.41 N', 0.40370338020787844]\n",
      "['BLR_CLIP.715.tif', '77 40 47.70 E   12 56 37.69 N', 0.36439863743558387]\n",
      "['BLR_CLIP.720.tif', '77 43 45.06 E   12 56 35.84 N', 0.6949078522141672]\n",
      "['BLR_CLIP.721.tif', '77 44 20.54 E   12 56 35.47 N', 0.5522753078871517]\n",
      "['BLR_CLIP.744.tif', '77 38 25.43 E   12 56  4.34 N', 0.42440387806795354]\n",
      "['BLR_CLIP.745.tif', '77 39  0.90 E   12 56  3.98 N', 0.5589134422220281]\n",
      "['BLR_CLIP.746.tif', '77 39 36.38 E   12 56  3.62 N', 0.699187701982706]\n",
      "['BLR_CLIP.828.tif', '77 29 32.25 E   12 54 25.18 N', 0.35077299327452177]\n",
      "['BLR_CLIP.893.tif', '77 28 56.09 E   12 53 15.91 N', 0.3498995545462486]\n",
      "['BLR_CLIP.924.tif', '77 27 44.80 E   12 52 41.78 N', 0.3581972224648441]\n",
      "['BLR_CLIP.925.tif', '77 28 20.27 E   12 52 41.45 N', 0.4619617433837016]\n",
      "['BLR_CLIP.957.tif', '77 27 44.46 E   12 52  6.98 N', 0.435409206044196]\n",
      "['BLR_CLIP.982.tif', '77 42 31.12 E   12 51 58.24 N', 0.3838763210760765]\n",
      "['BLR_CLIP.990.tif', '77 27 44.12 E   12 51 32.18 N', 0.3631758232160014]\n"
     ]
    }
   ],
   "source": [
    "for data in images_list:\n",
    "    if(data[2] > threshold):\n",
    "        print(data)"
   ]
  },
  {
   "cell_type": "code",
   "execution_count": 7,
   "metadata": {},
   "outputs": [],
   "source": [
    "\n",
    "# writing to csv file  \n",
    "with open(metafile, 'w',newline='') as csvfile:  \n",
    "    # creating a csv writer object  \n",
    "    csvwriter = csv.writer(csvfile)  \n",
    "    csvwriter.writerow(['mean','median','25th quantile','75th quantile','threshold'])    \n",
    "    # writing the data rows  \n",
    "    csvwriter.writerow([mean,median,q25,q75,threshold])"
   ]
  },
  {
   "cell_type": "code",
   "execution_count": 8,
   "metadata": {
    "collapsed": true
   },
   "outputs": [],
   "source": [
    "# writing to csv file  \n",
    "with open(file_name, 'w',newline='') as csvfile:  \n",
    "    # creating a csv writer object  \n",
    "    csvwriter = csv.writer(csvfile)  \n",
    "        \n",
    "    # writing the data rows  \n",
    "    csvwriter.writerows(images_list)"
   ]
  },
  {
   "cell_type": "code",
   "execution_count": null,
   "metadata": {},
   "outputs": [],
   "source": []
  },
  {
   "cell_type": "code",
   "execution_count": null,
   "metadata": {
    "collapsed": true
   },
   "outputs": [],
   "source": []
  }
 ],
 "metadata": {
  "kernelspec": {
   "display_name": "Python 3",
   "language": "python",
   "name": "python3"
  },
  "language_info": {
   "codemirror_mode": {
    "name": "ipython",
    "version": 3
   },
   "file_extension": ".py",
   "mimetype": "text/x-python",
   "name": "python",
   "nbconvert_exporter": "python",
   "pygments_lexer": "ipython3",
   "version": "3.6.1"
  }
 },
 "nbformat": 4,
 "nbformat_minor": 2
}
