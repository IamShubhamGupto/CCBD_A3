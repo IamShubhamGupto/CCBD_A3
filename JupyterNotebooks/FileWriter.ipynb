{
 "cells": [
  {
   "cell_type": "code",
   "execution_count": 1,
   "metadata": {
    "collapsed": true
   },
   "outputs": [],
   "source": [
    "import cv2\n",
    "import numpy as np\n",
    "from osgeo import gdal\n",
    "import glob\n",
    "import csv"
   ]
  },
  {
   "cell_type": "code",
   "execution_count": 2,
   "metadata": {
    "collapsed": true
   },
   "outputs": [],
   "source": [
    "headers = ['File name','Coordinates of image center','Green percentage']\n",
    "file_list = glob.glob(r'D:\\SHUBHAM\\CCBD\\QGIS\\BLR_183\\*.tif')\n",
    "images_list = []\n",
    "\n",
    "file_name = 'D:\\\\SHUBHAM\\\\CCBD\\\\information_183.csv'\n",
    "extra_path = 'D:\\\\SHUBHAM\\\\CCBD\\\\QGIS\\\\BLR_183\\\\'\n"
   ]
  },
  {
   "cell_type": "code",
   "execution_count": 3,
   "metadata": {
    "collapsed": true
   },
   "outputs": [],
   "source": [
    "for img_path in file_list:\n",
    "    image_data= []\n",
    "    img = cv2.imread(img_path)\n",
    "    h,w,c = img.shape\n",
    "    ds = gdal.Open(img_path)\n",
    "    name = img_path.replace(extra_path,'')\n",
    "    image_data.append(name)\n",
    "    \n",
    "    metadata = gdal.Info(ds)\n",
    "    x = metadata.find(\"Center\")\n",
    "    location = metadata[x+42:x+70].strip()\n",
    "    location = location.replace(\",\",\"  \")\n",
    "    location = location.replace('\\'',\" \")\n",
    "    location = location.replace('\\\"',\" \")\n",
    "    location = location.replace('d',\" \")\n",
    "    image_data.append(location)\n",
    "    \n",
    "    hsv = cv2.cvtColor(img, cv2.COLOR_BGR2HSV)\n",
    "    lower_green = np.array([20,0,0])\n",
    "    upper_green = np.array([90,245,245])\n",
    "    mask = cv2.inRange(hsv, lower_green, upper_green)\n",
    "    white_pixel = np.sum(mask > 0)\n",
    "    black_pixel = np.sum(mask == 0)\n",
    "    area = white_pixel/(white_pixel+black_pixel)\n",
    "    image_data.append(area)\n",
    "    \n",
    "    images_list.append(image_data)\n",
    "    "
   ]
  },
  {
   "cell_type": "code",
   "execution_count": 7,
   "metadata": {},
   "outputs": [
    {
     "name": "stdout",
     "output_type": "stream",
     "text": [
      "['BLR_183.0.tif', '76 51 22.65 E   13 33 11.81 N', 0.0]\n",
      "['BLR_183.1.tif', '76 52 23.51 E   13 33 11.35 N', 0.0]\n",
      "['BLR_183.120.tif', '76 51 21.73 E   13 31 12.73 N', 0.0]\n",
      "['BLR_183.121.tif', '76 52 22.57 E   13 31 12.28 N', 0.0]\n",
      "['BLR_183.122.tif', '76 53 23.42 E   13 31 11.82 N', 0.0]\n",
      "['BLR_183.180.tif', '76 51 21.26 E   13 30 13.19 N', 0.0]\n",
      "['BLR_183.181.tif', '76 52 22.11 E   13 30 12.74 N', 0.0]\n",
      "['BLR_183.182.tif', '76 53 22.95 E   13 30 12.28 N', 0.0]\n",
      "['BLR_183.2.tif', '76 53 24.36 E   13 33 10.90 N', 0.0]\n",
      "['BLR_183.240.tif', '76 51 20.80 E   13 29 13.65 N', 0.0]\n",
      "['BLR_183.241.tif', '76 52 21.64 E   13 29 13.20 N', 0.0]\n",
      "['BLR_183.242.tif', '76 53 22.48 E   13 29 12.74 N', 0.0]\n",
      "['BLR_183.3.tif', '76 54 25.22 E   13 33 10.43 N', 0.0]\n",
      "['BLR_183.300.tif', '76 51 20.35 E   13 28 14.11 N', 0.0]\n",
      "['BLR_183.301.tif', '76 52 21.18 E   13 28 13.66 N', 0.0]\n",
      "['BLR_183.302.tif', '76 53 22.02 E   13 28 13.20 N', 0.0]\n",
      "['BLR_183.360.tif', '76 51 19.89 E   13 27 14.57 N', 0.0]\n",
      "['BLR_183.361.tif', '76 52 20.72 E   13 27 14.12 N', 0.0]\n",
      "['BLR_183.362.tif', '76 53 21.55 E   13 27 13.67 N', 0.0]\n",
      "['BLR_183.420.tif', '76 51 19.43 E   13 26 15.03 N', 0.0]\n",
      "['BLR_183.421.tif', '76 52 20.26 E   13 26 14.58 N', 0.0]\n",
      "['BLR_183.480.tif', '76 51 18.97 E   13 25 15.49 N', 0.0]\n",
      "['BLR_183.481.tif', '76 52 19.79 E   13 25 15.04 N', 0.0]\n",
      "['BLR_183.540.tif', '76 51 18.51 E   13 24 15.95 N', 0.0]\n",
      "['BLR_183.541.tif', '76 52 19.33 E   13 24 15.50 N', 0.0]\n",
      "['BLR_183.60.tif', '76 51 22.19 E   13 32 12.27 N', 0.0]\n",
      "['BLR_183.600.tif', '76 51 18.06 E   13 23 16.41 N', 0.0]\n",
      "['BLR_183.601.tif', '76 52 18.87 E   13 23 15.96 N', 0.0]\n",
      "['BLR_183.61.tif', '76 52 23.04 E   13 32 11.82 N', 0.0]\n",
      "['BLR_183.62.tif', '76 53 23.89 E   13 32 11.36 N', 0.0]\n",
      "['BLR_183.63.tif', '76 54 24.74 E   13 32 10.90 N', 0.0]\n",
      "['BLR_183.660.tif', '76 51 17.60 E   13 22 16.87 N', 0.0]\n",
      "['BLR_183.720.tif', '76 51 17.15 E   13 21 17.33 N', 0.0]\n",
      "['BLR_183.780.tif', '76 51 16.69 E   13 20 17.79 N', 0.0]\n",
      "['BLR_183.840.tif', '76 51 16.24 E   13 19 18.25 N', 0.0]\n",
      "['BLR_183.900.tif', '76 51 15.78 E   13 18 18.71 N', 0.0]\n"
     ]
    }
   ],
   "source": [
    "for data in images_list:\n",
    "    if(data[2] == 0):\n",
    "        print(data)"
   ]
  },
  {
   "cell_type": "code",
   "execution_count": 6,
   "metadata": {},
   "outputs": [],
   "source": [
    "# writing to csv file  \n",
    "with open(file_name, 'w',newline='') as csvfile:  \n",
    "    # creating a csv writer object  \n",
    "    csvwriter = csv.writer(csvfile)  \n",
    "        \n",
    "    # writing the fields  \n",
    "    csvwriter.writerow(headers)  \n",
    "        \n",
    "    # writing the data rows  \n",
    "    csvwriter.writerows(images_list)"
   ]
  },
  {
   "cell_type": "code",
   "execution_count": null,
   "metadata": {
    "collapsed": true
   },
   "outputs": [],
   "source": []
  }
 ],
 "metadata": {
  "kernelspec": {
   "display_name": "Python 3",
   "language": "python",
   "name": "python3"
  },
  "language_info": {
   "codemirror_mode": {
    "name": "ipython",
    "version": 3
   },
   "file_extension": ".py",
   "mimetype": "text/x-python",
   "name": "python",
   "nbconvert_exporter": "python",
   "pygments_lexer": "ipython3",
   "version": "3.6.1"
  }
 },
 "nbformat": 4,
 "nbformat_minor": 2
}
